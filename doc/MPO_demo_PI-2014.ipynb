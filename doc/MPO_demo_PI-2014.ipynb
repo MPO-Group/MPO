{
 "metadata": {
  "name": "",
  "signature": "sha256:802b11ac6cd3764f38cf1c21a29241e92aed63534c2dfe8a2ac8e3c5118d1f6f"
 },
 "nbformat": 3,
 "nbformat_minor": 0,
 "worksheets": [
  {
   "cells": [
    {
     "cell_type": "markdown",
     "metadata": {},
     "source": [
      "# DEMO of MPO, The Metadata, Provenance and Ontology project\n",
      "## Or how to keep track of my runs\n",
      "\n",
      "The MPO is a [web application](https://localhost:8080/mpo) with a scriptable commandline interface."
     ]
    },
    {
     "cell_type": "markdown",
     "metadata": {},
     "source": [
      "###Setup python environment so we can load the mpo modules"
     ]
    },
    {
     "cell_type": "code",
     "collapsed": false,
     "input": [
      "#Setup python environment so we can load the mpo modules\n",
      "import os, sys\n",
      "sys.path.insert(0,\"../client/python\")\n",
      "import mpo_arg"
     ],
     "language": "python",
     "metadata": {},
     "outputs": [],
     "prompt_number": 1
    },
    {
     "cell_type": "markdown",
     "metadata": {},
     "source": [
      "##The command line client has a rich interface with extensive help"
     ]
    },
    {
     "cell_type": "code",
     "collapsed": false,
     "input": [
      "!env|grep MPO"
     ],
     "language": "python",
     "metadata": {},
     "outputs": [
      {
       "output_type": "stream",
       "stream": "stdout",
       "text": [
        "MPO_HOME=/Users/jwright/Codes/mpo-head/trunk\r\n",
        "MPO_HOST=https://localhost:8080/api\r\n",
        "MPO_RC=path to optional resources file\r\n",
        "MPO_VERSION=v0\r\n",
        "MPO_AUTH=/Users/jwright/Codes/mpo-head/trunk/MPO Demo User.pem\r\n",
        "MPO=/Users/jwright/Codes/mpo-head/trunk/client/python/mpo_arg.py\r\n"
       ]
      }
     ],
     "prompt_number": 10
    },
    {
     "cell_type": "code",
     "collapsed": true,
     "input": [
      "!$MPO meta -h"
     ],
     "language": "python",
     "metadata": {},
     "outputs": [
      {
       "output_type": "stream",
       "stream": "stdout",
       "text": [
        "usage: mpo_arg.py meta [-h] object key value\r\n",
        "\r\n",
        "positional arguments:\r\n",
        "  object      UUID of object to attach metadata to\r\n",
        "  key         metadata type/identifier\r\n",
        "  value       metadata data to add\r\n",
        "\r\n",
        "optional arguments:\r\n",
        "  -h, --help  show this help message and exit\r\n"
       ]
      }
     ],
     "prompt_number": 12
    },
    {
     "cell_type": "markdown",
     "metadata": {},
     "source": [
      "##Simple workflows can be created with a shell script"
     ]
    },
    {
     "cell_type": "code",
     "collapsed": false,
     "input": [
      "%%bash\n",
      "#use API methods to create a workflow\n",
      "wid=`$MPO init --name=\"Simple Example2\" --desc=test --type=EFIT`\n",
      "oid=`$MPO add  $wid $wid --name=shot --desc=\"Plasma shot number\" --uri=150335`\n",
      "oid2=`$MPO add  $wid $wid --name=\"Snap file\" --desc=\"EFIT input file\" --uri=\"\\\\efit_test_01:namelist\"`\n",
      "aid=`$MPO step $wid $oid --input=$oid2 --name=\"EFIT exec\" --desc=\"Fit equilibrium and compute plasma parameters\" --uri=EFIT0`\n",
      "cid=`$MPO comment $aid \"This program is the only one in this workflow\"`\n",
      "\n",
      "echo The composite ID of this workflow is `$MPO --format=pretty get  workflow/$wid/alias`"
     ],
     "language": "python",
     "metadata": {},
     "outputs": [
      {
       "output_type": "stream",
       "stream": "stdout",
       "text": [
        "The composite ID of this workflow is { \"alias\":\"mpodemo/EFIT/2\", \"uid\":\"1def2bf7-a15b-4a97-bc00-1e0fd4d38a03\" }\n"
       ]
      }
     ],
     "prompt_number": 14
    },
    {
     "cell_type": "markdown",
     "metadata": {},
     "source": [
      "##Show simple example result on UI"
     ]
    },
    {
     "cell_type": "markdown",
     "metadata": {},
     "source": [
      "##More complex workflow from real simulation"
     ]
    },
    {
     "cell_type": "code",
     "collapsed": true,
     "input": [
      "%%bash\n",
      "shot=550335\n",
      "#use API methods to create a workflow\n",
      "wid=`$MPO init --name=EFIT --desc=\"EFIT workflow demo for poster session\" --type=EFIT`\n",
      "echo The work ID of this workflow is: $wid\n",
      "oid1=`$MPO add  $wid $wid --name=shot --desc=\"Plasma shot number\" --uri=$shot`\n",
      "oid2=`$MPO add  $wid $wid --name=\"Snap file\" --desc=\"EFIT input file\" --uri=\"$($MPO -f raw archive -p mdsplus -s $shot -t efit02 -p'\\efit02:namelist')\"`\n",
      "oid3=`$MPO add  $wid $wid --name=\"Green's Table\" --desc=\"Green's table files\" --uri=\"$($MPO -f raw archive -p filesys -f/link/efit/rpf[01-12].d3d)\"`\n",
      "aid1=`$MPO step $wid $oid1 --input=$oid2 --input=$oid3 --name=\"Read Input Files\" --desc=\"Read shot number, snap file etc...\"`\n",
      "cid=`$MPO comment $aid1 \"This program is the only one in this workflow\"`\n",
      "\n",
      "#below needs $shot and $aid1\n",
      "shot=550335\n",
      "#aid1=`$MPO get -r dataobject/`\n",
      "oid4=`$MPO add  $wid $wid  --name=\"Plasma Current\" --desc=\"Plasma current in MA\" --uri=\"$($MPO -f raw archive -p mdsplus -s $shot -t magnetics -p'\\magnetics::ip')\"`\n",
      "oid5=`$MPO add  $wid $wid  --name=\"PTDATA\" --desc=\"Point Data\" --uri=\"jQuery17108033435964025557_1409760561148?\"`\n",
      "aid2=`$MPO step $wid $oid4 --input=$oid5 --name=\"Read PTDATA\" --desc=\"Read PTDATA and Plasma Current\" --uri=EFIT1`\n",
      "aid3=`$MPO step $wid $aid2 --name=\"Calibrate Data\" --desc=\"Calibrate input to EFIT\" --uri=EFIT2`\n",
      "aid4=`$MPO step $wid $aid3 --input $aid1 --name=\"EFIT Data averaging\" --desc=\"Average EFIT Data\" --uri=EFIT3`\n",
      "aid5=`$MPO step $wid $aid4 --name=\"Run PTDATA\" --desc=\"Run the EFIT code to FIT the equilibria\" --uri=EFIT4`\n",
      "aid6=`$MPO step $wid $aid5 --name=\"Write EFIT Outputs\" --desc=\"Write the EFIT output files\" --uri=EFIT5`\n",
      "oid6=`$MPO add  $wid $aid6 --name=\"A File\" --desc=\"A EQDSK File\" --uri=\"$($MPO -f raw archive -p mdsplus -s $shot -t efit01 -p'\\efit01::results:aeqdsk')\"`\n",
      "oid7=`$MPO add  $wid $aid6 --name=\"G File\" --desc=\"G EQDSK File\" --uri=\"$($MPO -f raw archive -p mdsplus -s $shot -t efit01 -p'\\efit01::results:geqdsk')\"`\n",
      "\n",
      "echo The composite ID of this workflow is `$MPO --format=pretty get -r workflow/$wid/alias`\n"
     ],
     "language": "python",
     "metadata": {},
     "outputs": [
      {
       "output_type": "stream",
       "stream": "stdout",
       "text": [
        "The work ID of this workflow is: 4e9f41b8-202b-4281-ae9b-70bd876e6dbd\n",
        "The composite ID of this workflow is { \"alias\":\"mpodemo/EFIT/17\", \"uid\":\"4e9f41b8-202b-4281-ae9b-70bd876e6dbd\" }\n"
       ]
      }
     ],
     "prompt_number": 133
    },
    {
     "cell_type": "code",
     "collapsed": false,
     "input": [
      "!cat ../client/python/tests/gyro_out_parse.sh"
     ],
     "language": "python",
     "metadata": {},
     "outputs": [
      {
       "output_type": "stream",
       "stream": "stdout",
       "text": [
        "#!/usr/bin/env bash \r\n",
        "\r\n",
        "#GYRO setup\r\n",
        "#function to retrieve gyro metadata\r\n",
        "#arg is dir path /exports/data1/gyro/test_dirs/87513_.7_5\r\n",
        "\r\n",
        "if [ $# == 0 ]; then\r\n",
        "    echo Usage: $0 directory_to_archive comment\r\n",
        "    exit\r\n",
        "fi\r\n",
        "rundir=$1\r\n",
        "\r\n",
        "\r\n",
        "###Set the output file to parse and the variables desired.\r\n",
        "#This script expects variables in the output file of the format\r\n",
        "# .variable : value\r\n",
        "#on each line\r\n",
        "outfile=out.gyro.run\r\n",
        "vars=(RADIUS DLNTDR DLNNDR_ELECTRON DLNTDR_ELECTRON) #list of gyro variable to record\r\n",
        "\r\n",
        "gyrofile=$rundir/$outfile\r\n",
        "#bash function to parse $vars from $outfile into JSON or plain value\r\n",
        "function gyro_kv_json {\r\n",
        "    sed -n \"s/^[ ]\\+\\.\\($2\\)[ ]\\+:[ ]\\+\\([0-9\\.]*\\)/\\{\\\"name\\\":\\\"\\1\\\",\\\"value\\\":\\2}/p\" $1\r\n",
        "}\r\n",
        "\r\n",
        "function gyro_kv_bash {\r\n",
        "    sed -n \"s/^[\\ ]\\.$2[\\ ]*:[\\ ]*\\([0-9\\.]*\\)/\\1/p\" $1\r\n",
        "}\r\n",
        "\r\n",
        "#    sed -n \"s/^[ ]\\+\\.\\($2\\)[ ]\\+:[ ]\\+\\([0-9\\.]*\\)/\\2/p\" $1\r\n",
        "\r\n",
        "#populate array $metav with key value pairs for $vars list\r\n",
        "declare -A metav\r\n",
        "for name in \"${vars[@]}\"; do metav[$name]=`gyro_kv_bash $gyrofile $name`; done\r\n",
        "\r\n",
        "\r\n",
        "###MPO setup\r\n",
        "#specify MPO server address. The API will read this value.\r\n",
        "#defaults are used if environment is not set\r\n",
        "if ! [ -n \"${MPO_HOST:+x}\" ]\r\n",
        "then\r\n",
        "  export MPO_HOST=http://localhost:3001\r\n",
        "fi\r\n",
        "\r\n",
        "\r\n",
        "if ! [ -n \"${MPO_VERSION:+x}\" ]\r\n",
        "then\r\n",
        "  export MPO_VERSION=v0\r\n",
        "fi\r\n",
        "\r\n",
        "if ! [ -n \"${MPO:+x}\" ]\r\n",
        "then\r\n",
        "  export MPO=\"$MPO_HOME/client/python/mpo_testing.py\"\r\n",
        "fi\r\n",
        "\r\n",
        "swift_root=http://localhost:8080/v1/AUTH_0d63fa5f677f4042b7c359598c2e25bb\r\n",
        "SWIFT=/usr/bin/swift\r\n",
        "mpo_user=nthoward\r\n",
        "run_comment=$(cat <<- EOF #describe the run here\r\n",
        "Imported run.\r\n",
        "EOF\r\n",
        ");\r\n",
        "if [ $# == 2 ]; then\r\n",
        "  run_comment=\"$2\"\r\n",
        "fi\r\n",
        "\r\n",
        "#############Record GYRO storage workflow###################\r\n",
        "\r\n",
        "#Initialize workflow\r\n",
        "wid=`$MPO --user=$mpo_user init --name=Archive-GYRO --desc=\"Import of gyro simulation results from $rundir\" --type=Gyro`\r\n",
        "echo Workflow ID is $wid.\r\n",
        "\r\n",
        "#Comment on the workflow\r\n",
        "$MPO --user=$mpo_user comment    $wid \"$run_comment\"\r\n",
        "\r\n",
        "#Get alias for the workflow\r\n",
        "compid=`$MPO  get workflow/$wid/alias`\r\n",
        "\r\n",
        "#Add an action to the workflow\r\n",
        "aid=`$MPO --user=$mpo_user step       $wid $wid --name=\"Archive\" --desc=\"Store run and extract meta data.\"`\r\n",
        "\r\n",
        "#Add an output of this action to the workflow\r\n",
        "#uri points to resource location, in this case the swift object store\r\n",
        "#created\r\n",
        "oid=`$MPO --user=$mpo_user add        $wid $aid --name=\"Archive Store\" --desc=\"Location of archived files.\" --uri=swift:$swift_root/$mpo_user/$rundir`\r\n",
        "\r\n",
        "#Store files in archive\r\n",
        "#comp_id alias is prepended to upload path for uniqueness\r\n",
        "##$SWIFT --os-auth-url http://localhost:5000/v2.0 -U mpo:$mpo_user -K try-mpo-swift  upload -c mpo/$compid/ $rundir\r\n",
        "\r\n",
        "#Record location in metadata of the archive object\r\n",
        "$MPO --user=$mpo_user meta $oid archive swift:$swift_root/$mpo_user/$oid/$rundir\r\n",
        "\r\n",
        "#attach key/value pairs to the workflow as searchable metadata\r\n",
        "for i in \"${!metav[@]}\"\r\n",
        "do\r\n",
        "  echo \"storing key  : $i\" \",  value: ${metav[$i]}\"\r\n",
        "  $MPO --user=$mpo_user meta $wid $i ${metav[$i]}\r\n",
        "done\r\n",
        "\r\n",
        "#Store the directory and machine that was archived \r\n",
        "$MPO --user=$mpo_user meta $wid 'sourcedir' \"`hostname -f` : $rundir\"\r\n",
        "\r\n",
        "#finalize the workflow (currently a nop)\r\n",
        "#$MPO --user=$mpo_user stop $wid\r\n",
        "\r\n",
        "#grab timestamp - not in unique location\r\n",
        "#move command?\r\n",
        "#record move command\r\n",
        "#end workflow (no command or convention for this yet)\r\n",
        "#search batch.out for runtime, host\r\n"
       ]
      }
     ],
     "prompt_number": 9
    },
    {
     "cell_type": "markdown",
     "metadata": {},
     "source": [
      "##Pause, view workflow then extend it"
     ]
    },
    {
     "cell_type": "code",
     "collapsed": false,
     "input": [
      "!$MPO --format=pretty get -r workflow?alias=mpodemo/EFIT/15"
     ],
     "language": "python",
     "metadata": {},
     "outputs": [
      {
       "output_type": "stream",
       "stream": "stdout",
       "text": [
        "[\r\n",
        "    {\r\n",
        "        \"username\":\"mpodemo\",\r\n",
        "        \"description\":\"EFIT workflow demo for compuational lunch\",\r\n",
        "        \"composite_seq\":15,\r\n",
        "        \"user\":{\r\n",
        "            \"username\":\"mpodemo\",\r\n",
        "            \"lastname\":\"Demo User\",\r\n",
        "            \"userid\":\"f223db41-d1c5-41db-b8af-fde6c0a16f76\",\r\n",
        "            \"firstname\":\"MPO\"\r\n",
        "        },\r\n",
        "        \"time\":\"2014-09-02 12:14:06.694258\",\r\n",
        "        \"uid\":\"cd405a8b-84df-4b6a-b3fd-439f23a1edf9\",\r\n",
        "        \"name\":\"EFIT\"\r\n",
        "    }\r\n",
        "]\r\n"
       ]
      }
     ],
     "prompt_number": 33
    },
    {
     "cell_type": "markdown",
     "metadata": {},
     "source": [
      "##Now get the ID of the workflow to extend it"
     ]
    },
    {
     "cell_type": "code",
     "collapsed": true,
     "input": [
      "%%bash\n",
      "#retrieve work ID\n",
      "shot=550335\n",
      "wid=`$MPO get -r workflow?alias=mpodemo/EFIT/17`\n",
      "\n",
      "cid=`$MPO comment $wid \"This workflow now has a comment added.\"`\n",
      "echo $cid\n",
      "$MPO add  $wid $wid --name=shot22 --desc='live update' --uri='something'"
     ],
     "language": "python",
     "metadata": {},
     "outputs": [
      {
       "output_type": "stream",
       "stream": "stdout",
       "text": [
        "708d89f2-4e8d-4d71-9dcd-00e5bb76c73b\n",
        "c76085d6-76dc-4dd7-996b-6598dc591fa8\n"
       ]
      }
     ],
     "prompt_number": 135
    },
    {
     "cell_type": "markdown",
     "metadata": {},
     "source": [
      "##Different workflows may be connected with common data objects"
     ]
    },
    {
     "cell_type": "markdown",
     "metadata": {},
     "source": [
      "##The ontology may be expanded\n",
      "###Search options are data driven and update reflecting new ontology entry"
     ]
    },
    {
     "cell_type": "code",
     "collapsed": true,
     "input": [
      "%%bash\n",
      "#add a new workflow type\n",
      "workflow_type=`$MPO get -r ontology/term -p path=/Workflow/Type`\n",
      "$MPO --format=pretty define --parent $workflow_type Widget --desc \"A Code that does everything\" --vtype=string --not-specified"
     ],
     "language": "python",
     "metadata": {},
     "outputs": [
      {
       "output_type": "stream",
       "stream": "stdout",
       "text": [
        "{\n",
        "    \"username\":\"mpodemo\",\n",
        "    \"user_uid\":\"f223db41-d1c5-41db-b8af-fde6c0a16f76\",\n",
        "    \"description\":\"A Code that does everything\",\n",
        "    \"uid\":\"5a6f2a66-481c-4315-b7fb-ad78e8af53c6\",\n",
        "    \"specified\":false,\n",
        "    \"units\":null,\n",
        "    \"date_added\":\"2014-09-10 14:33:19.552437\",\n",
        "    \"type\":\"string\",\n",
        "    \"parent_uid\":\"ee39ae67-139e-433e-b666-441437faa413\",\n",
        "    \"name\":\"Widget\"\n",
        "}\n"
       ]
      }
     ],
     "prompt_number": 13
    },
    {
     "cell_type": "markdown",
     "metadata": {},
     "source": [
      "##Interaction in the User Interface is driven by an Ontology - a controlled vocabulary"
     ]
    },
    {
     "cell_type": "code",
     "collapsed": true,
     "input": [
      "!../client/python/tests/make_ont_tree.py"
     ],
     "language": "python",
     "metadata": {},
     "outputs": [
      {
       "output_type": "stream",
       "stream": "stdout",
       "text": [
        "cert /Users/jwright/Codes/mposvn/trunk/MPO Demo User.pem\r\n",
        "cert /Users/jwright/Codes/mposvn/trunk/MPO Demo User.pem\r\n",
        "MPO.GET https://mpo.psfc.mit.edu/api/v0/ontology/term {} {'ACCEPT': 'application/json'} {'verify': False, 'cert': '/Users/jwright/Codes/mposvn/trunk/MPO Demo User.pem'}\r\n"
       ]
      },
      {
       "output_type": "stream",
       "stream": "stdout",
       "text": [
        "MPO.GET response https://mpo.psfc.mit.edu/api/v0/ontology/term 200\r\n"
       ]
      },
      {
       "output_type": "stream",
       "stream": "stdout",
       "text": [
        "root\r\n",
        "|___ Activity\r\n",
        "|___ Generic\r\n",
        "|    |___ Status\r\n",
        "|         |___ quality\r\n",
        "|              |___ 1\r\n",
        "|              |___ 2\r\n",
        "|              |___ 3\r\n",
        "|              |___ 4\r\n",
        "|___ Workflow\r\n",
        "|    |___ Type\r\n",
        "|         |___ EFIT\r\n",
        "|              |___ Code Characteristics\r\n",
        "|                   |___ 32\r\n",
        "|                   |___ 64\r\n",
        "|                   |___ bit_size\r\n",
        "|                   |___ documentation\r\n",
        "|                   |___ purpose\r\n",
        "|                   |___ source\r\n",
        "|                   |___ version\r\n",
        "|              |___ Run Characteristics\r\n",
        "|                   |___ mode\r\n",
        "|                        |___ 2\r\n",
        "|                        |___ 3\r\n",
        "|                        |___ 4\r\n",
        "|                        |___ 5\r\n",
        "|                        |___ 6\r\n",
        "|                        |___ 7\r\n",
        "|              |___ Run Metadata\r\n",
        "|                   |___ a\r\n",
        "|                   |___ date_run\r\n",
        "|                   |___ delta_l\r\n",
        "|                   |___ delta_u\r\n",
        "|                   |___ experiment\r\n",
        "|                   |___ kappa\r\n",
        "|                   |___ r\r\n",
        "|                   |___ rsurf\r\n",
        "|                   |___ run_by\r\n",
        "|                   |___ run_comment\r\n",
        "|                   |___ run_id\r\n",
        "|                   |___ run_type\r\n",
        "|                   |___ runtag\r\n",
        "|                   |___ shot\r\n",
        "|                   |___ t_efit\r\n",
        "|                   |___ topology\r\n",
        "|                   |___ tree\r\n",
        "|                   |___ wtotmax\r\n",
        "|                   |___ zmaxis\r\n",
        "|         |___ Gyro\r\n",
        "|              |___ Code Characteristics\r\n",
        "|                   |___ documentation\r\n",
        "|                   |___ source\r\n",
        "|                   |___ turbulence code\r\n",
        "|                        |___ linear plasma turbulence\r\n",
        "|                        |___ nonlinear plasma turbulence\r\n",
        "|                   |___ version\r\n",
        "|              |___ Run Characteristics\r\n",
        "|                   |___ boundary conditions\r\n",
        "|                        |___ nonperiodic (global or fixed profile)\r\n",
        "|                        |___ periodic (flux tube)\r\n",
        "|                   |___ electron dynamical method\r\n",
        "|                        |___ adiabatic\r\n",
        "|                        |___ drift kinetic\r\n",
        "|                        |___ gyrokinetic\r\n",
        "|                   |___ fluctuations\r\n",
        "|                        |___ electromagnetic\r\n",
        "|                        |___ electrostatic\r\n",
        "|                   |___ nonlinear dynamic model\r\n",
        "|                        |___ off\r\n",
        "|                        |___ on\r\n",
        "|                   |___ operational mode\r\n",
        "|                        |___ eigenvalue\r\n",
        "|                        |___ initial value\r\n",
        "|                   |___ profiles\r\n",
        "|                        |___ experimental\r\n",
        "|                        |___ user-defined\r\n",
        "|              |___ Run Metadata\r\n",
        "|                   |___ B_unit\r\n",
        "|                   |___ CsD\r\n",
        "|                   |___ CsD/a\r\n",
        "|                   |___ Gamma_gBD\r\n",
        "|                   |___ Pi_gBD\r\n",
        "|                   |___ Q_gBD\r\n",
        "|                   |___ S_qBD\r\n",
        "|                   |___ Te\r\n",
        "|                   |___ a\r\n",
        "|                   |___ chi_gBD\r\n",
        "|                   |___ dlnndr_electron\r\n",
        "|                   |___ dlntdr\r\n",
        "|                   |___ dlntdr_electron\r\n",
        "|                   |___ m_ref\r\n",
        "|                   |___ ne\r\n",
        "|                   |___ radius\r\n",
        "|                   |___ rho_SD\r\n",
        "|         |___ SWIM\r\n",
        "|              |___ Code Characteristics\r\n",
        "|                   |___ documentation\r\n",
        "|                   |___ purpose\r\n",
        "|                   |___ source\r\n",
        "|                   |___ version\r\n",
        "|              |___ Run Characteristics\r\n",
        "|                   |___ status\r\n",
        "|                        |___ complete\r\n",
        "|                        |___ nonstandard completion\r\n",
        "|              |___ Run Metadata\r\n",
        "|                   |___ date_run\r\n",
        "|                   |___ host\r\n",
        "|                   |___ max_i_plasma\r\n",
        "|                   |___ max_ne_0\r\n",
        "|                   |___ max_q_0\r\n",
        "|                   |___ max_q_95\r\n",
        "|                   |___ max_te_0\r\n",
        "|                   |___ max_ti_0\r\n",
        "|                   |___ portal_run_id\r\n",
        "|                   |___ run_by\r\n",
        "|                   |___ run_comment\r\n",
        "|                   |___ shot\r\n",
        "|                   |___ sim_name\r\n",
        "|                   |___ tokamak\r\n",
        "|                   |___ tree\r\n",
        "|                   |___ visualisation_url\r\n",
        "|         |___ TORLH\r\n",
        "|         |___ Widget\r\n"
       ]
      }
     ],
     "prompt_number": 20
    },
    {
     "cell_type": "markdown",
     "metadata": {},
     "source": [
      "##Documention is available at [/doc](https://localhost:8080/mpo/doc)"
     ]
    },
    {
     "cell_type": "markdown",
     "metadata": {},
     "source": [
      "##The API tools are also usable as a python and IDL class"
     ]
    },
    {
     "cell_type": "code",
     "collapsed": true,
     "input": [
      "cert='/Users/jwright/Codes/mposvn/trunk/MPO Demo User.pem'\n",
      "api='https://mpo.psfc.mit.edu/api'\n",
      "m=mpo_arg.mpo_methods(api_url=api,cert=cert,debug=True)\n",
      "m.debug=False\n",
      "records=m.get('ontology/term').json()"
     ],
     "language": "python",
     "metadata": {},
     "outputs": [
      {
       "output_type": "stream",
       "stream": "stderr",
       "text": [
        "cert /Users/jwright/Codes/mposvn/trunk/MPO Demo User.pem\n",
        "cert /Users/jwright/Codes/mposvn/trunk/MPO Demo User.pem\n"
       ]
      }
     ],
     "prompt_number": 16
    },
    {
     "cell_type": "markdown",
     "metadata": {},
     "source": [
      "##Example of an IDL script\n",
      "###Live demo requires separate terminal window"
     ]
    },
    {
     "cell_type": "markdown",
     "metadata": {},
     "source": [
      "\n",
      "    m=obj_new('mpo',host='https://mpo.psfc.mit.edu/api',version='v0')\n",
      "    ;m=obj_new('mpo',host='https://charon.psfc.mit.edu:8080/api',version='v0')\n",
      "\n",
      "    ;Start method takes name, description, workflow type\n",
      "    wf=m->start('GYRO-prep','idl test-final','Gyro' )\n",
      "\n",
      "    ;Add method takes workflow id, parent id, name, description, uri\n",
      "    obj1=m->add(wf.uid,wf.uid,'Transp_Shot','Transp simulation number','12345')\n",
      "\n",
      "    ;Step method takes workflow id, parent id, name, description,\n",
      "    act1=m->step(wf.uid,obj1.uid,'Export','Save equilibrium','Transp-Export')\n",
      "\n",
      "    ;Meta method takes target id, type, value\n",
      "    tmp=m->meta(wf.uid,'format','ascii')\n",
      "\n",
      "    ;Comment method takes target id, text\n",
      "    tmp=m->comment(wf.uid,'A workflow created from IDL')\n",
      "\n",
      "    obj_destroy,m\n",
      "    end\n"
     ]
    },
    {
     "cell_type": "markdown",
     "metadata": {},
     "source": [
      "###See workflow image"
     ]
    },
    {
     "cell_type": "code",
     "collapsed": false,
     "input": [
      "#now we retrieve graph directly from UI webserver\n",
      "#temporarily set server for mpo object to webserver that has image route\n",
      "api_url=api\n",
      "web_url='https://mpo.psfc.mit.edu/mpo/'\n",
      "m.api_url=web_url\n",
      "\n",
      "dag2=m.get(route='graph/%s/png'%wid) #this gets the image\n",
      "m.api_url=api_url\n",
      "\n",
      "Image(dag2.content) #display the image, must be last command"
     ],
     "language": "python",
     "metadata": {},
     "outputs": [
      {
       "metadata": {},
       "output_type": "pyout",
       "png": "[encoded data removed]",
       "prompt_number": 125,
       "text": [
        "<IPython.core.display.Image at 0x10c0c6b90>"
       ]
      }
     ],
     "prompt_number": 125
    },
    {
     "cell_type": "code",
     "collapsed": false,
     "input": [],
     "language": "python",
     "metadata": {},
     "outputs": []
    }
   ],
   "metadata": {}
  }
 ]
}